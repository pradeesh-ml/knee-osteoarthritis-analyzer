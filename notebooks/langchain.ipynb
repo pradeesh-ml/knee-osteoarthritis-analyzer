{
 "cells": [
  {
   "cell_type": "code",
   "execution_count": 26,
   "id": "67ee6305",
   "metadata": {},
   "outputs": [],
   "source": [
    "import os\n",
    "from langchain_ollama.llms import OllamaLLM\n",
    "from langchain_ollama import OllamaEmbeddings\n",
    "from langchain_core.prompts import ChatPromptTemplate, PromptTemplate\n",
    "from langchain_core.messages import SystemMessage,HumanMessage\n",
    "from langchain_community.document_loaders import TextLoader\n",
    "from langchain_community.vectorstores import Chroma\n",
    "from langchain.text_splitter import RecursiveCharacterTextSplitter\n",
    "from langchain.chains import ConversationalRetrievalChain\n",
    "from langchain.memory import ConversationBufferMemory"
   ]
  },
  {
   "cell_type": "code",
   "execution_count": 5,
   "id": "f08b249b",
   "metadata": {},
   "outputs": [],
   "source": [
    "curr_dir=os.getcwd()\n",
    "db_dir=os.path.join(curr_dir,'db')\n",
    "persistent_directory=os.path.join(db_dir,'chroma_db_koa')"
   ]
  },
  {
   "cell_type": "code",
   "execution_count": 6,
   "id": "9f224e29",
   "metadata": {},
   "outputs": [],
   "source": [
    "model=OllamaLLM(model='gemma3:4b')\n",
    "embedding=OllamaEmbeddings(model='nomic-embed-text')"
   ]
  },
  {
   "cell_type": "code",
   "execution_count": 7,
   "id": "b1cb52fb",
   "metadata": {},
   "outputs": [],
   "source": [
    "def create_vector_embedding(db_dir,persistent_directory):\n",
    "    if not os.path.exists(persistent_directory):\n",
    "        text_files=[f for f in os.listdir(db_dir) if f.endswith('.txt')]\n",
    "        all_loaded_documents=[]\n",
    "        for files in text_files:\n",
    "            file_path=os.path.join(db_dir,files)\n",
    "            loader=TextLoader(file_path)\n",
    "            docs=loader.load()\n",
    "            for doc in docs:\n",
    "                doc.metadata={'source': files}\n",
    "                all_loaded_documents.append(doc)\n",
    "            print(f'Loaded {len(docs)} documents from {files}')\n",
    "        text_splitter=RecursiveCharacterTextSplitter(chunk_size=1000,chunk_overlap=200)\n",
    "        docs=text_splitter.split_documents(all_loaded_documents)\n",
    "        print('-----Document chunk information-----\\n')\n",
    "        print(f'Number of documnet chunks: {len(docs)}')\n",
    "        print(f\"Creating and persisting Chroma DB to '{persistent_directory}'...\")\n",
    "        try:\n",
    "            db=Chroma.from_documents(documents=docs,embedding=embedding,persist_directory=persistent_directory)\n",
    "            print('Successfully created and stored vector embedding')\n",
    "        except Exception as e:\n",
    "            print(f'Error while creating vector store: {e}')\n",
    "    else:\n",
    "        print('Vector embedding is already exists')\n"
   ]
  },
  {
   "cell_type": "code",
   "execution_count": 8,
   "id": "45e2cc59",
   "metadata": {},
   "outputs": [
    {
     "name": "stdout",
     "output_type": "stream",
     "text": [
      "Loaded 1 documents from diagnosis.txt\n",
      "Loaded 1 documents from faq.txt\n",
      "Loaded 1 documents from grading.txt\n",
      "Loaded 1 documents from surgery.txt\n",
      "Loaded 1 documents from symptoms.txt\n",
      "Loaded 1 documents from treatment.txt\n",
      "-----Document chunk information-----\n",
      "\n",
      "Number of documnet chunks: 49\n",
      "Creating and persisting Chroma DB to 'e:\\Learning Zone\\DL\\Mini project\\db\\chroma_db_koa'...\n",
      "Successfully created and stored vector embedding\n"
     ]
    }
   ],
   "source": [
    "create_vector_embedding(db_dir,persistent_directory)"
   ]
  },
  {
   "cell_type": "code",
   "execution_count": 9,
   "id": "feaaf9c8",
   "metadata": {},
   "outputs": [
    {
     "name": "stderr",
     "output_type": "stream",
     "text": [
      "C:\\Users\\Pradeesh\\AppData\\Local\\Temp\\ipykernel_19872\\3314761616.py:1: LangChainDeprecationWarning: The class `Chroma` was deprecated in LangChain 0.2.9 and will be removed in 1.0. An updated version of the class exists in the :class:`~langchain-chroma package and should be used instead. To use it run `pip install -U :class:`~langchain-chroma` and import as `from :class:`~langchain_chroma import Chroma``.\n",
      "  db=Chroma(persist_directory=persistent_directory,embedding_function=embedding)\n"
     ]
    }
   ],
   "source": [
    "db=Chroma(persist_directory=persistent_directory,embedding_function=embedding)"
   ]
  },
  {
   "cell_type": "code",
   "execution_count": 23,
   "id": "87c4c446",
   "metadata": {},
   "outputs": [],
   "source": [
    "retriever = db.as_retriever(search_type=\"similarity\", search_kwargs={\"k\": 3})"
   ]
  },
  {
   "cell_type": "code",
   "execution_count": 25,
   "id": "1f9906e0",
   "metadata": {},
   "outputs": [
    {
     "name": "stderr",
     "output_type": "stream",
     "text": [
      "C:\\Users\\Pradeesh\\AppData\\Local\\Temp\\ipykernel_19872\\860855868.py:1: LangChainDeprecationWarning: Please see the migration guide at: https://python.langchain.com/docs/versions/migrating_memory/\n",
      "  memory = ConversationBufferMemory(\n"
     ]
    }
   ],
   "source": [
    "memory = ConversationBufferMemory(\n",
    "    memory_key=\"chat_history\",\n",
    "    return_messages=True,\n",
    "    output_key='answer'\n",
    ")"
   ]
  },
  {
   "cell_type": "code",
   "execution_count": 27,
   "id": "9ed5fa03",
   "metadata": {},
   "outputs": [],
   "source": [
    "_template = \"\"\"Given the following conversation and a follow up question, rephrase the follow up question to be a standalone question, in its original language.\n",
    "If the follow up question is already a standalone question or if the chat history is empty, DO NOT rephrase the question and just return the original follow up question.\n",
    "\n",
    "Chat History:\n",
    "{chat_history}\n",
    "Follow Up Input: {question}\n",
    "Standalone question:\"\"\"\n",
    "CONDENSE_QUESTION_PROMPT = PromptTemplate.from_template(_template)"
   ]
  },
  {
   "cell_type": "code",
   "execution_count": 28,
   "id": "ef898165",
   "metadata": {},
   "outputs": [],
   "source": [
    "QA_PROMPT_TEMPLATE = \"\"\"You are a helpful AI assistant specializing in Knee Osteoarthritis (KOA).\n",
    "Your goal is to answer questions about KOA based *only* on the provided context.\n",
    "If the context does not contain the answer to the question, state clearly that you cannot answer based on the provided information.\n",
    "Do not make up information or answer from your general knowledge if it's not in the context.\n",
    "Be concise and informative.\n",
    "\n",
    "Context:\n",
    "{context}\n",
    "\n",
    "Question: {question}\n",
    "\n",
    "Helpful Answer:\"\"\"\n",
    "QA_PROMPT = ChatPromptTemplate.from_template(QA_PROMPT_TEMPLATE)"
   ]
  },
  {
   "cell_type": "code",
   "execution_count": 29,
   "id": "d670001e",
   "metadata": {},
   "outputs": [],
   "source": [
    "qa_chain = ConversationalRetrievalChain.from_llm(\n",
    "    llm=model,\n",
    "    retriever=retriever,\n",
    "    memory=memory,\n",
    "    condense_question_prompt=CONDENSE_QUESTION_PROMPT, # Custom prompt for condensing\n",
    "    combine_docs_chain_kwargs={\"prompt\": QA_PROMPT},   # Custom prompt for QA\n",
    "    return_source_documents=True, # Optional: to see which documents were retrieved\n",
    "    verbose=True # Set to True for debugging to see intermediate steps\n",
    ")"
   ]
  },
  {
   "cell_type": "code",
   "execution_count": null,
   "id": "ee8a4d29",
   "metadata": {},
   "outputs": [
    {
     "name": "stdout",
     "output_type": "stream",
     "text": [
      "\n",
      "--- Knee Osteoarthritis Chatbot ---\n",
      "Ask me anything about Knee Osteoarthritis based on the provided documents.\n",
      "Type 'quit', 'exit', or 'bye' to end the conversation.\n"
     ]
    }
   ],
   "source": [
    "print(\"\\n--- Knee Osteoarthritis Chatbot ---\")\n",
    "print(\"Ask me anything about Knee Osteoarthritis based on the provided documents.\")\n",
    "print(\"Type 'quit', 'exit', or 'bye' to end the conversation.\")\n",
    "\n",
    "while True:\n",
    "    try:\n",
    "        user_query = input(\"\\nYou: \")\n",
    "        if user_query.lower() in [\"quit\", \"exit\", \"bye\"]:\n",
    "            print(\"Bot: Goodbye! Stay healthy.\")\n",
    "            break\n",
    "        if not user_query.strip():\n",
    "            continue\n",
    "\n",
    "        # Add a thinking indicator (optional)\n",
    "        print(\"Bot: Thinking...\")\n",
    "\n",
    "        # Invoke the chain. It expects a dictionary with the \"question\".\n",
    "        # The chat_history is automatically pulled from memory.\n",
    "        result = qa_chain({\"question\": user_query})\n",
    "        answer = result[\"answer\"]\n",
    "\n",
    "        print(f\"Bot: {answer}\")\n",
    "\n",
    "        # Optional: Print source documents for debugging or transparency\n",
    "        print(\"\\n--- Sources ---\")\n",
    "        for doc in result.get(\"source_documents\", []):\n",
    "            print(f\"- {doc.metadata.get('source', 'Unknown')}, content snippet: {doc.page_content[:100]}...\")\n",
    "\n",
    "    except Exception as e:\n",
    "        print(f\"An error occurred: {e}\")\n",
    "        # Optionally, you might want to break or offer to reset\n",
    "        # For now, we'll just let the loop continue"
   ]
  },
  {
   "cell_type": "code",
   "execution_count": null,
   "id": "9403d467",
   "metadata": {},
   "outputs": [
    {
     "name": "stdout",
     "output_type": "stream",
     "text": [
      "Documents 1 : \n",
      " While age is a major risk factor for osteoarthritis of the knee, young people can get it, too. For some people, it may be hereditary. For others, osteoarthritis of the knee can result from injury or infection or even from being overweight. Here are answers to your questions about knee osteoarthritis, including how it's treated and what you can do at home to ease the pain.\n",
      "What Is Osteoarthritis?\n",
      "\n",
      "Osteoarthritis, commonly known as wear-and-tear arthritis, is a condition in which the natural cushioning between joints – cartilage – wears away. When this happens, the bones of the joints rub more closely against one another with less of the shock-absorbing benefits of cartilage. The rubbing results in pain, swelling, stiffness, less ability to move, and, sometimes, the formation of bone spurs.\n",
      "Who Gets Osteoarthritis of the Knee?\n",
      "\n",
      "Documents 2 : \n",
      " Related:\n",
      "    What Are the Symptoms of Osteoarthritis?\n",
      "\n",
      "When Is Surgery Used to Treat Knee Osteoarthritis?\n",
      "\n",
      "If your doctor wants to treat the osteoarthritis in the knee with surgery, the options are arthroscopy, osteotomy, and arthroplasty.\n",
      "\n",
      "Documents 3 : \n",
      " What Are the Symptoms of Knee Osteoarthritis?\n",
      "\n",
      "Symptoms of osteoarthritis of the knee may include:\n",
      "\n",
      "    Pain that increases when you are active, but gets a little better with rest\n",
      "    Swelling\n",
      "    Stiffness in the knee, especially in the morning or when you have been sitting for a while\n",
      "    Less mobility of the knee, making it hard to get in and out of chairs or cars, use the stairs, or walk\n",
      "    A creaking, crackly sound that is heard when the knee moves\n",
      "\n",
      "    Related:\n",
      "    Do I Need Knee Replacement Surgery?\n",
      "\n",
      "How Is Osteoarthritis of the Knee Diagnosed?\n",
      "\n",
      "The diagnosis of knee osteoarthritis will begin with a physical exam by your doctor. Your doctor will also take your medical history and note any symptoms. Make sure to note what makes the pain worse or better to help your doctor determine if osteoarthritis, or something else, may be causing your pain. Also find out if anyone else in your family has arthritis. Your doctor may order more tests, including:\n",
      "\n",
      "Documents 4 : \n",
      " X-rays, which can show bone and cartilage damage as well as the presence of bone spurs\n",
      "    Magnetic resonance imaging (MRI) scans\n",
      "\n",
      "MRI scans may be ordered when X-rays do not give a clear reason for joint pain or when the X-rays suggest that other types of joint tissue could be damaged. Doctors may use blood tests to rule out other conditions that could be causing the pain, such as rheumatoid arthritis, a different type of arthritis caused by a disorder in the immune system.\n",
      "How Is Osteoarthritis of the Knee Treated?\n",
      "\n",
      "The primary goals of treating osteoarthritis of the knee are to relieve the pain and make you more mobile. The treatment plan will typically include a combination of the following:\n",
      "\n"
     ]
    }
   ],
   "source": []
  },
  {
   "cell_type": "code",
   "execution_count": null,
   "id": "d2c9beb8",
   "metadata": {},
   "outputs": [],
   "source": []
  },
  {
   "cell_type": "code",
   "execution_count": null,
   "id": "6ce24e2a",
   "metadata": {},
   "outputs": [],
   "source": []
  },
  {
   "cell_type": "code",
   "execution_count": null,
   "id": "8a6f6281",
   "metadata": {},
   "outputs": [],
   "source": []
  },
  {
   "cell_type": "code",
   "execution_count": null,
   "id": "4052163c",
   "metadata": {},
   "outputs": [
    {
     "data": {
      "text/plain": [
       "'<think>\\nOkay, so I need to figure out how to write a response about knee osteoarthritis using only the provided documents. Let\\'s see what each document says.\\n\\nThe first document defines knee osteoarthritis as wear-and-tear arthritis where cartilage wears away, causing pain, swelling, stiffness, and sometimes bone spurs. It mentions that age is a major risk factor but also notes it can occur in young people or due to injury, infection, or being overweight.\\n\\nNext, the document on \"What Is Osteoarthritis?\" elaborates that this condition occurs when cartilage between bones wears down over time, leading to joint pain and stiffness. It explains how this happens through repeated stress or certain conditions like OA itself.\\n\\nThen there\\'s information about who gets knee osteoarthritis of the knee: it\\'s common in older adults but can also affect younger people, especially those with a family history of the condition.\\n\\nThe document on when surgery is used mentions that if surgery is considered, options are arthroscopy, osteotomy, or arthroplasty. It suggests consulting a doctor for treatment decisions.\\n\\nAnother document discusses symptoms: pain that\\'s worse with activity but improves with rest, swelling, stiffness in the morning, reduced mobility, and a creaking sound when moving the knee.\\n\\nThere\\'s also information on diagnosis methods, which include physical exams, medical histories, possible blood tests to rule out other conditions like rheumatoid arthritis. X-rays and MRIs are used to check for cartilage damage or bone spurs.\\n\\nTreatment options are mentioned as including pain management techniques, physical therapy, weight management, and sometimes surgery if other treatments don\\'t help.\\n\\nWait, the user provided a query where they want an answer based on these documents about \"How is knee osteoarthritis treated?\" The response from the assistant was structured with sections: Overview, Diagnosis, Treatment, When to See a Doctor, and Home Care. It used information from each document to build that structure.\\n\\nSo if I were to write this now, considering all the provided info, I should outline the treatment process based on what\\'s given. Make sure to mention primary goals like pain relief and increased mobility, combining various treatments like medication, physical therapy, exercises, and possibly surgery. Also include when to consult a doctor, maybe after two years of no improvement despite home care.\\n\\nI need to ensure that each part is supported by the documents without adding new information.\\n</think>\\n\\n**Knee Osteoarthritis Treatment Overview**\\n\\nKnee osteoarthritis, often referred to as wear-and-tear arthritis, occurs when cartilage between the knee bones degrades, leading to joint pain, swelling, stiffness, and sometimes bone spurs. This condition can develop with age but may also affect young individuals due to injury, infection, or obesity.\\n\\n**Diagnosis:**\\nThe diagnosis begins with a physical exam by a healthcare provider, who will assess symptoms such as pain that worsens with activity, morning stiffness, and reduced mobility. Medical history is reviewed for conditions like rheumatoid arthritis, which could complicate the diagnosis. X-rays and MRI scans are used to evaluate cartilage damage or bone spurs.\\n\\n**Treatment:**\\nPrimary goals of treatment include relieving pain and enhancing mobility. Treatment strategies may involve:\\n- **Pain Management:** Using medication such as nonsteroidal anti-inflammatory drugs (NSAIDs) or corticosteroids.\\n- **Physical Therapy:** Incorporating exercises to strengthen muscles, improve flexibility, and aid weight management.\\n- **Exercises:** Gentle activities like swimming or low-impact aerobics can help reduce joint strain.\\n\\n**When to See a Doctor:**\\nConsultation with a healthcare provider is recommended after two years of no improvement from home care strategies if symptoms persist.\\n\\n**Home Care:**\\nImplementing measures such as regular exercise, maintaining a healthy weight, avoiding prolonged sitting, and wearing supportive footwear can aid in managing knee osteoarthritis.\\n\\nBy addressing both immediate symptom relief and long-term mobility improvement through a combination of these treatments, individuals with knee osteoarthritis can manage their condition effectively.'"
      ]
     },
     "execution_count": 38,
     "metadata": {},
     "output_type": "execute_result"
    }
   ],
   "source": []
  },
  {
   "cell_type": "code",
   "execution_count": null,
   "id": "ca13a01c",
   "metadata": {},
   "outputs": [],
   "source": []
  },
  {
   "cell_type": "code",
   "execution_count": null,
   "id": "a18903a1",
   "metadata": {},
   "outputs": [],
   "source": []
  },
  {
   "cell_type": "code",
   "execution_count": null,
   "id": "e96b2f46",
   "metadata": {},
   "outputs": [
    {
     "data": {
      "text/plain": [
       "\"Okay, let's break down knee osteoarthritis (OA) – it's a really common condition, and understanding it can help you manage it. Here's a detailed explanation:\\n\\n**What is Knee Osteoarthritis?**\\n\\nKnee osteoarthritis is a degenerative joint disease. That means it's a gradual wearing down of the cartilage in your knee joint. Cartilage is the smooth, rubbery tissue that cushions the ends of your bones and allows them to move easily together. When this cartilage breaks down, it causes pain, stiffness, and swelling in the knee.\\n\\n**Here's a more detailed breakdown:**\\n\\n1. **The Normal Knee Joint:**\\n   * **Bones:** The femur (thighbone), tibia (shinbone), and patella (kneecap) all meet at the knee joint.\\n   * **Cartilage:** This smooth tissue covers the ends of the bones, acting as a shock absorber and reducing friction during movement.\\n   * **Synovial Fluid:** This fluid lubricates the joint, further reducing friction.\\n   * **Ligaments & Muscles:** These provide stability to the joint.\\n\\n2. **What Happens in Osteoarthritis:**\\n   * **Cartilage Breakdown:** Over time, the cartilage in your knee begins to break down due to:\\n      * **Wear and Tear:**  The knee joint is constantly subjected to stress and movement.\\n      * **Age:**  As we age, cartilage naturally deteriorates.\\n      * **Genetics:**  Some people are genetically predisposed to OA.\\n      * **Obesity:** Excess weight puts extra stress on the knee joint.\\n      * **Previous Injury:**  A prior injury can damage cartilage and accelerate the process.\\n   * **Bone Changes:** As the cartilage wears away, the underlying bone becomes visible. The bone may thicken (bone spurs) as the body tries to repair the damage.\\n   * **Inflammation:** The breakdown of cartilage triggers inflammation, which contributes to pain and swelling.\\n   * **Changes in Synovial Fluid:**  The fluid may become less effective at lubricating the joint.\\n\\n\\n**Symptoms of Knee Osteoarthritis:**\\n\\n* **Pain:**  Often worse after activity and relieved by rest. It might be a dull ache or a sharp, stabbing pain.\\n* **Stiffness:** Especially in the morning or after periods of inactivity.\\n* **Swelling:**  The knee may feel warm and swollen.\\n* **Decreased Range of Motion:** Difficulty bending or straightening your knee fully.\\n* **Grinding or Clicking:** You might hear or feel a grinding sensation when you move your knee.\\n* **Instability:** A feeling that your knee is buckling or giving way.\\n\\n**Risk Factors:**\\n\\n* **Age:** The risk increases with age.\\n* **Weight:** Excess weight significantly increases the risk.\\n* **Genetics:** Family history of OA.\\n* **Previous Injury:**  Previous knee injuries.\\n* **Occupation:** Jobs that involve repetitive kneeling or heavy lifting.\\n* **Certain Medical Conditions:** Rheumatoid arthritis, gout, and lupus can increase the risk.\\n\\n\\n\\n**Treatment:**\\n\\nTreatment for knee osteoarthritis focuses on managing pain and improving function. This can include:\\n\\n* **Lifestyle Changes:** Weight loss, exercise (especially low-impact), and physical therapy.\\n* **Over-the-Counter Pain Relievers:**  Acetaminophen, ibuprofen, naproxen.\\n* **Prescription Medications:**  Stronger pain relievers, disease-modifying drugs.\\n* **Physical Therapy:**  Exercises to strengthen muscles around the knee and improve range of motion.\\n* **Injections:** Corticosteroid injections or hyaluronic acid injections.\\n* **Surgery:**  In severe cases, joint replacement surgery may be considered.\\n\\n**Important Note:** *I am an AI Chatbot and not a medical professional. This information is for general knowledge and informational purposes only, and does not constitute medical advice. It is essential to consult with a qualified healthcare provider for any health concerns or before making any decisions related to your health or treatment.*\\n\\n**Resources for More Information:**\\n\\n* **Arthritis Foundation:** [https://www.arthritis.org/](https://www.arthritis.org/)\\n* **National Institute of Arthritis and Musculoskeletal and Skin Diseases (NIAMS):** [https://www.niams.nih.gov/health-topics/osteoarthritis](https://www.niams.nih.gov/health-topics/osteoarthritis)\\n\\n\\n\\nDo you have any specific questions about knee osteoarthritis that you'd like me to answer, such as:\\n\\n*   Specific exercises for knee OA?\\n*   How is pain in OA diagnosed?\\n*   What are the long-term effects of OA?\""
      ]
     },
     "execution_count": 53,
     "metadata": {},
     "output_type": "execute_result"
    }
   ],
   "source": []
  },
  {
   "cell_type": "code",
   "execution_count": null,
   "id": "7a01859a",
   "metadata": {},
   "outputs": [
    {
     "data": {
      "text/plain": [
       "'Knee-osteoarthritis is a condition in which the natural cushioning between joints – cartilage – wears away, causing pain, swelling, stiffness, less mobility, and sometimes the formation of bone spurs.'"
      ]
     },
     "execution_count": 50,
     "metadata": {},
     "output_type": "execute_result"
    }
   ],
   "source": []
  },
  {
   "cell_type": "code",
   "execution_count": null,
   "id": "81dd53f6",
   "metadata": {},
   "outputs": [],
   "source": []
  }
 ],
 "metadata": {
  "kernelspec": {
   "display_name": "langchain",
   "language": "python",
   "name": "python3"
  },
  "language_info": {
   "codemirror_mode": {
    "name": "ipython",
    "version": 3
   },
   "file_extension": ".py",
   "mimetype": "text/x-python",
   "name": "python",
   "nbconvert_exporter": "python",
   "pygments_lexer": "ipython3",
   "version": "3.10.17"
  }
 },
 "nbformat": 4,
 "nbformat_minor": 5
}
